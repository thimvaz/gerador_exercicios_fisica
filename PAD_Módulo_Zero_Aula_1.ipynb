{
  "nbformat": 4,
  "nbformat_minor": 0,
  "metadata": {
    "colab": {
      "provenance": [],
      "collapsed_sections": [
        "1b-KLzXKOYDR",
        "oEo9XGyKHWlY"
      ],
      "include_colab_link": true
    },
    "kernelspec": {
      "name": "python3",
      "display_name": "Python 3"
    },
    "language_info": {
      "name": "python"
    }
  },
  "cells": [
    {
      "cell_type": "markdown",
      "metadata": {
        "id": "view-in-github",
        "colab_type": "text"
      },
      "source": [
        "<a href=\"https://colab.research.google.com/github/thimvaz/gerador_exercicios_fisica/blob/main/PAD_M%C3%B3dulo_Zero_Aula_1.ipynb\" target=\"_parent\"><img src=\"https://colab.research.google.com/assets/colab-badge.svg\" alt=\"Open In Colab\"/></a>"
      ]
    },
    {
      "cell_type": "markdown",
      "source": [
        "# **Python Para Análise de Dados**\n",
        "## Módulo Introdutório\n",
        "\n",
        "### Aula 1: \n",
        "#### - Operações Matemáticas;\n",
        "#### - Tipo de dados e função Type() \n",
        "#### - Declação de Variáveis; \n",
        "#### - Funções Print( ) Input( ) e IF( ).\n"
      ],
      "metadata": {
        "id": "3PL6lqh_njiy"
      }
    },
    {
      "cell_type": "markdown",
      "source": [
        "# Operadores Matemáticos"
      ],
      "metadata": {
        "id": "YXqcX_1XOPbF"
      }
    },
    {
      "cell_type": "markdown",
      "source": [
        "# Soma, Subtração, Multiplicação e divisão"
      ],
      "metadata": {
        "id": "1b-KLzXKOYDR"
      }
    },
    {
      "cell_type": "code",
      "source": [
        "# soma +\n",
        "1 + 2 "
      ],
      "metadata": {
        "id": "N-rsYP3aNIIr"
      },
      "execution_count": null,
      "outputs": []
    },
    {
      "cell_type": "code",
      "source": [
        "# subtração -\n",
        "5 - 3 "
      ],
      "metadata": {
        "id": "IwEvIIxlOlyy"
      },
      "execution_count": null,
      "outputs": []
    },
    {
      "cell_type": "code",
      "source": [
        "5 + (-1)"
      ],
      "metadata": {
        "id": "YPf0A5kESYPX"
      },
      "execution_count": null,
      "outputs": []
    },
    {
      "cell_type": "code",
      "source": [
        "5 - (-1)"
      ],
      "metadata": {
        "id": "B3XvbYRNSnkp"
      },
      "execution_count": null,
      "outputs": []
    },
    {
      "cell_type": "code",
      "source": [
        "# multiplicação *\n",
        "5 * 2 "
      ],
      "metadata": {
        "id": "PuvWbN2POpEI"
      },
      "execution_count": null,
      "outputs": []
    },
    {
      "cell_type": "code",
      "source": [
        "# Como na álgebra, Python faz multiplicação antes da soma\n",
        "1 + 2 * 5"
      ],
      "metadata": {
        "id": "FB3UeTnJS0Ku"
      },
      "execution_count": null,
      "outputs": []
    },
    {
      "cell_type": "code",
      "source": [
        "# Como na álgebra, Python opera primeiro dentro dos parênteses\n",
        "(1 + 2) * 5"
      ],
      "metadata": {
        "id": "rXTm-ArfTFgJ"
      },
      "execution_count": null,
      "outputs": []
    },
    {
      "cell_type": "code",
      "source": [
        "# Potênciação **\n",
        "5 ** 2"
      ],
      "metadata": {
        "id": "6ZgrQ25tPFP1"
      },
      "execution_count": null,
      "outputs": []
    },
    {
      "cell_type": "code",
      "source": [
        "# Divisão\n",
        "5 / 2"
      ],
      "metadata": {
        "id": "5lXQOdGHPdJu"
      },
      "execution_count": null,
      "outputs": []
    },
    {
      "cell_type": "code",
      "source": [
        "# Parte inteira da Divisão\n",
        "5 // 2"
      ],
      "metadata": {
        "id": "l2p7WZ3iPhNh"
      },
      "execution_count": null,
      "outputs": []
    },
    {
      "cell_type": "code",
      "source": [
        "# Resto da Divisão\n",
        "5 % 2\n"
      ],
      "metadata": {
        "id": "7KIzN3K4PjFi"
      },
      "execution_count": null,
      "outputs": []
    },
    {
      "cell_type": "markdown",
      "source": [
        "# Tipos de Dados / Variável\n",
        "## Inteiro, Ponto Flutuante, Booleano e String "
      ],
      "metadata": {
        "id": "oEo9XGyKHWlY"
      }
    },
    {
      "cell_type": "code",
      "source": [
        "# String é o tipo TEXTO e no Python sem vai entre aspas (simples ou dupla)\n",
        "type(\"Thiago\")"
      ],
      "metadata": {
        "id": "g_t_UzK3Q_aV"
      },
      "execution_count": null,
      "outputs": []
    },
    {
      "cell_type": "code",
      "source": [
        "# Número Inteiro\n",
        "type(8)"
      ],
      "metadata": {
        "id": "nNEz4SBCHBWT"
      },
      "execution_count": null,
      "outputs": []
    },
    {
      "cell_type": "code",
      "source": [
        "# Numero decimal ou ponto flutuante\n",
        "type(8.0)"
      ],
      "metadata": {
        "id": "24BfigxoIGQb"
      },
      "execution_count": null,
      "outputs": []
    },
    {
      "cell_type": "code",
      "source": [
        "# Dado Lógico ou Booleano (Verdadeiro - True ou Falso - False)\n",
        "type(True)"
      ],
      "metadata": {
        "id": "x-5M_oiTIQb7"
      },
      "execution_count": null,
      "outputs": []
    },
    {
      "cell_type": "code",
      "source": [
        "# Operadores Booleanos\n",
        "# Maior             >\n",
        "# Menor             < \n",
        "# Maior ou igual    >=\n",
        "# Menor ou igual    <=\n",
        "# igual             =="
      ],
      "metadata": {
        "id": "vjD1t-h8Iy6e"
      },
      "execution_count": null,
      "outputs": []
    },
    {
      "cell_type": "code",
      "source": [
        "# Exemplo 1\n",
        "8 >= 5"
      ],
      "metadata": {
        "id": "ilhQgCEbIg7I"
      },
      "execution_count": null,
      "outputs": []
    },
    {
      "cell_type": "code",
      "source": [
        "# Exemplo 2\n",
        "8 == 5"
      ],
      "metadata": {
        "id": "khnFtjjcIu5H"
      },
      "execution_count": null,
      "outputs": []
    },
    {
      "cell_type": "markdown",
      "source": [
        "# Declarando Variáveis\n",
        "\n",
        "## Em python as variáveis não podem começar por números ou letras maiúsculas (boas práticas).\n",
        "## É interessante que o nome da variável descreva perfeitamente o que ela representa."
      ],
      "metadata": {
        "id": "XfmxRtOMNPje"
      }
    },
    {
      "cell_type": "code",
      "source": [
        "# Exemplo 1\n",
        "\n",
        "numero = 100\n",
        "\n",
        "#Lê-se: \"a variável 'numero' recebe 100\"\n",
        "#esta célula não tem nenhuma saída... \n"
      ],
      "metadata": {
        "id": "IDxqojJqLp7V"
      },
      "execution_count": null,
      "outputs": []
    },
    {
      "cell_type": "code",
      "source": [
        "# Imprimindo o valor de uma variável:\n",
        "\n",
        "# OBS: Aqui no Google Colab, para imprimir um valor de uma variável, \n",
        "#      basta escrever a variável numa nova linha\n",
        "\n",
        "numero"
      ],
      "metadata": {
        "id": "ZjTMearDOTeM"
      },
      "execution_count": null,
      "outputs": []
    },
    {
      "cell_type": "code",
      "source": [
        "# Exemplo 2\n",
        "\n",
        "nome = \"Jose\"\n",
        "nome"
      ],
      "metadata": {
        "id": "dwj1J8OUO5Ql"
      },
      "execution_count": null,
      "outputs": []
    },
    {
      "cell_type": "code",
      "source": [
        "# Exemplo 3\n",
        "primeiro_valor = 10\n",
        "segundo_valor = 3\n",
        "soma = primeiro_valor + segundo_valor\n"
      ],
      "metadata": {
        "id": "rjFr46PlXMqI"
      },
      "execution_count": null,
      "outputs": []
    },
    {
      "cell_type": "code",
      "source": [
        "soma"
      ],
      "metadata": {
        "id": "pTljkQiFXwot"
      },
      "execution_count": null,
      "outputs": []
    },
    {
      "cell_type": "code",
      "source": [
        "# Exemplo 4\n",
        "\n",
        "soma > 12"
      ],
      "metadata": {
        "id": "EKjSJOcjXxRE"
      },
      "execution_count": null,
      "outputs": []
    },
    {
      "cell_type": "code",
      "source": [
        "soma < 2"
      ],
      "metadata": {
        "id": "uMdBq3nuYI2j"
      },
      "execution_count": null,
      "outputs": []
    },
    {
      "cell_type": "code",
      "source": [],
      "metadata": {
        "id": "W7ZPgJUyUCeR"
      },
      "execution_count": null,
      "outputs": []
    },
    {
      "cell_type": "markdown",
      "source": [
        "# Impressão de dados na tela"
      ],
      "metadata": {
        "id": "GOJ0jznYUoyh"
      }
    },
    {
      "cell_type": "code",
      "source": [
        "# Para imprimir algo na tela, basta usar a função print()\n",
        "# Dentro do parêntesis você passa o nome da variável sem aspas ou um texto entre aspas\n",
        "\n",
        "# Exemplos\n",
        "variavel = \"Estou aprendendo Python\"\n",
        "print(variavel)"
      ],
      "metadata": {
        "colab": {
          "base_uri": "https://localhost:8080/"
        },
        "id": "EVppahunUweM",
        "outputId": "c53725f0-04ca-4b64-9f8e-6a5bb85639c5"
      },
      "execution_count": null,
      "outputs": [
        {
          "output_type": "stream",
          "name": "stdout",
          "text": [
            "Estou aprendendo Python\n"
          ]
        }
      ]
    },
    {
      "cell_type": "code",
      "source": [
        "# Ou Você poderia simplemente:\n",
        "\n",
        "print(\"Programar parece difícil\")"
      ],
      "metadata": {
        "colab": {
          "base_uri": "https://localhost:8080/"
        },
        "id": "0R0Yp7rdVZiC",
        "outputId": "e13553d4-0493-44b4-8e6c-ac191ecf5922"
      },
      "execution_count": null,
      "outputs": [
        {
          "output_type": "stream",
          "name": "stdout",
          "text": [
            "Programar parece difícil\n"
          ]
        }
      ]
    },
    {
      "cell_type": "code",
      "source": [
        "# Poce pode imprimir várias coisas separadas por VÍRGULA:\n",
        "\n",
        "print(\"Programar é fácil!\", variavel, 3**2)"
      ],
      "metadata": {
        "colab": {
          "base_uri": "https://localhost:8080/"
        },
        "id": "U9EomZ1bVtcV",
        "outputId": "9c6d7457-2b50-4700-d71a-2db54efc8d21"
      },
      "execution_count": null,
      "outputs": [
        {
          "output_type": "stream",
          "name": "stdout",
          "text": [
            "Programar é fácil! Estou aprendendo Python 9\n"
          ]
        }
      ]
    },
    {
      "cell_type": "code",
      "source": [],
      "metadata": {
        "id": "D8sVW8S4WAEs"
      },
      "execution_count": null,
      "outputs": []
    }
  ]
}